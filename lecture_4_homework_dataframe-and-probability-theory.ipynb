{
 "cells": [
  {
   "cell_type": "markdown",
   "metadata": {},
   "source": [
    "# Лекция 4. Домашнее задание.\n",
    "\n",
    "## Задача 1.\n",
    "\n",
    "На основании данных портала \"Открытые данные России\" о результатах Химического анализа родника в Нескучном саду https://data.gov.ru/opendata/7708660670-rodnik-neskuchniy-sad средствами библиотеки Pandas сформируйте поле выводов по каждому анализирумомому параметру. Например, по показателю pH получен результат 8.4 единицы pH при нормативе от 6 до 9 единиц pH. Т.о. по данному показателю результат анализа в норме. Для решения задачи необходимо программно \"прочитать и понять\" значение столбца \"Норматив\" и выделенное численное значение сравнить с нормативом согласно логике норматива. Например, 6 >= pH >= 9. В итоговом DataFrame столбец \"Показатель\" сделайте индексным.\n",
    "\n",
    "Загзрузка DataFrame выполняется непосредственно c сайта \"Открытые данные России\" https://data.gov.ru/opendata/7708660670-rodnik-neskuchniy-sad/data-20160608T1215-structure-20160608T1215.csv (см. код ниже)."
   ]
  },
  {
   "cell_type": "code",
   "execution_count": null,
   "metadata": {},
   "outputs": [],
   "source": [
    "import requests\n",
    "import pandas as pd\n",
    "import numpy as np\n",
    "import io\n",
    "import random\n",
    "import matplotlib.pyplot as plt\n",
    "import seaborn as sns\n",
    "from tqdm.notebook import tqdm"
   ]
  },
  {
   "cell_type": "code",
   "execution_count": null,
   "metadata": {},
   "outputs": [],
   "source": [
    "url =\"https://data.gov.ru/opendata/7708660670-rodnik-neskuchniy-sad/data-20160608T1215-structure-20160608T1215.csv\"\n",
    "s = requests.get(url).content\n",
    "df = pd.read_csv(io.StringIO(s.decode('UTF8')))\n",
    "display(df)"
   ]
  },
  {
   "cell_type": "code",
   "execution_count": null,
   "metadata": {},
   "outputs": [],
   "source": [
    "between = lambda x, a, b: a <= x <= b\n",
    "nomore = lambda x, a: x <= a\n",
    "normatives_dict = {\n",
    "    \"в пределах\": between,\n",
    "    \"не более\": nomore\n",
    "}"
   ]
  },
  {
   "cell_type": "code",
   "execution_count": null,
   "metadata": {},
   "outputs": [],
   "source": [
    "# Функция обрабатывает сформированную строку \"Результат_анализа#Норматив\" и возвращает Оценку_результата_анализа\n",
    "def get_result_verdict(analysis_res_and_normative:str) -> str:\n",
    "    try:\n",
    "        analysis_result = float(analysis_res_and_normative.split(\"#\")[0])\n",
    "    except Exception:\n",
    "        return \"Некорректные данные\"\n",
    "    normative = analysis_res_and_normative.split(\"#\")[1]\n",
    "    \n",
    "    operator = \" \".join(i for i in normative.split(\" \")[:-1])\n",
    "    normative_as_func = normatives_dict[operator]\n",
    "    \n",
    "    operands = normative.split(\" \")[-1]\n",
    "    operands = operands.replace(\",\", \".\")\n",
    "    operands = operands.split(\"-\")\n",
    "    \n",
    "    x = analysis_result\n",
    "    a = float(operands[0]) # Для норматива \"Не более\", где указан диапазон \"a-b\", будет браться минимальное значение \"a\"\n",
    "    b = float(operands[1]) if len(operands)==2 else None\n",
    "    \n",
    "    if operator == \"не более\":\n",
    "        res = normative_as_func(x,a)\n",
    "    if operator == \"в пределах\":\n",
    "        res = normative_as_func(x,a,b)\n",
    "\n",
    "    return \"В норме\" if res else \"Не в норме\""
   ]
  },
  {
   "cell_type": "code",
   "execution_count": null,
   "metadata": {},
   "outputs": [],
   "source": [
    "# Формирование колонки в датафрейме с оценками по результатам анализа\n",
    "df1 = df.copy()\n",
    "results_verdicts_series = pd.Series([f'{df1.iloc[i][\"Результат анализа\"]}#{df1.iloc[i][\"Норматив\"]}' for i in range(df1.shape[0])])\n",
    "df1[\"Оценка результата анализа\"] = results_verdicts_series.apply(lambda x: get_result_verdict(x))\n",
    "display(df1)"
   ]
  },
  {
   "cell_type": "code",
   "execution_count": null,
   "metadata": {},
   "outputs": [],
   "source": [
    "# Формирование итогового датафрейма со столбцом \"Показатель\" в качестве индексов\n",
    "final_df = df1.copy()\n",
    "final_df.index = final_df[\"Показатель\"]\n",
    "final_df = final_df.drop(\"Показатель\", axis=1)\n",
    "display(final_df)"
   ]
  },
  {
   "cell_type": "markdown",
   "metadata": {},
   "source": [
    "## Теория вероятности. События\n",
    "Требуется сгенерировать необходимые выборки и произвести по ним расчеты\n",
    "\n",
    "## Задача 2.\n",
    "В ящике 5 апельсинов и 4 яблока. Наудачу выбираются 3 фрукта. Какова вероятность, что все три фрукта – апельсины?\n",
    "\n",
    "В интернете полученный аналитически ответ 0.119. Подтверждается ли он эксперементально?"
   ]
  },
  {
   "cell_type": "code",
   "execution_count": null,
   "metadata": {},
   "outputs": [],
   "source": [
    "analytical_result_1 = 0.119\n",
    "random_seed = 1"
   ]
  },
  {
   "cell_type": "code",
   "execution_count": null,
   "metadata": {},
   "outputs": [],
   "source": [
    "def create_fruit_box(n_fruits_in_box_dict:dict={\"orange\": 5, \"apple\": 4}, seed:int=random_seed) -> list:\n",
    "    \"\"\" Функция формирует и возвращает массив строк, представляемый 'ящиком с фруктами' \"\"\"\n",
    "    np.random.seed(seed)\n",
    "    fruit_box = []\n",
    "    for fruit in n_fruits_in_box_dict:\n",
    "        for n_fruits in range(n_fruits_in_box_dict[fruit]):\n",
    "            fruit_box.append(fruit)\n",
    "    np.random.shuffle(fruit_box)\n",
    "    return fruit_box"
   ]
  },
  {
   "cell_type": "code",
   "execution_count": null,
   "metadata": {},
   "outputs": [],
   "source": [
    "# Тестовое формирование 'ящика'\n",
    "fruit_box = create_fruit_box()\n",
    "fruit_box\n",
    "\n",
    "#['apple',\n",
    "# 'orange',\n",
    "# 'apple',\n",
    "# 'apple',\n",
    "# 'orange',\n",
    "# 'orange',\n",
    "# 'apple',\n",
    "# 'orange',\n",
    "# 'orange']"
   ]
  },
  {
   "cell_type": "code",
   "execution_count": null,
   "metadata": {},
   "outputs": [],
   "source": [
    "def experiment_1(fruit_box:list, n_observations:int, n_fruit_takings:int=3) -> float:\n",
    "    \"\"\"\n",
    "    Функция воспроизводит эксперимент со случайными взятиями фруктов из корзины, \n",
    "    формируя датафрейм по полученным исходам,\n",
    "    и возвращает долю интересующих наблюдений от всей сгенерированной выборки.\n",
    "    \"\"\"\n",
    "    df = pd.DataFrame(\n",
    "            [[np.random.choice(fruit_box) for _ in range(n_fruit_takings)] for _ in range(n_observations)], \n",
    "            columns=[\"fruit_1\", \"fruit_2\", \"fruit_3\"])\n",
    "    n_relevant_observations = df[df==\"orange\"].dropna().shape[0]\n",
    "    return n_relevant_observations / n_observations"
   ]
  },
  {
   "cell_type": "code",
   "execution_count": null,
   "metadata": {},
   "outputs": [],
   "source": [
    "# Результат эксперимента для 100 наблюдений\n",
    "fruit_box = create_fruit_box()\n",
    "n_observations_1 = 100\n",
    "result_1 = experiment_1(fruit_box, n_observations_1)\n",
    "result_1\n",
    "# 0.14"
   ]
  },
  {
   "cell_type": "code",
   "execution_count": null,
   "metadata": {},
   "outputs": [],
   "source": [
    "# Статистические показатели по 300 экспериментам\n",
    "fruit_box = create_fruit_box()\n",
    "n_observations_1 = 100\n",
    "n_experiments_1 = 300\n",
    "results_1 = pd.Series([experiment_1(fruit_box, n_observations_1) for _ in tqdm(range(n_experiments_1))])\n",
    "\n",
    "print(f\"Средний результат - {results_1.mean():.3f}\\n\"\\\n",
    "      f\"Стандартное отклонение - {results_1.std():.3f}\\n\"\\\n",
    "      f\"Минимальное значение - {results_1.min()}\\n\"\\\n",
    "      f\"Максимальное значение - {results_1.max()}\")\n",
    "\n",
    "# Средний результат - 0.175\n",
    "# Стандартное отклонение - 0.036\n",
    "# Минимальное значение - 0.09\n",
    "# Максимальное значение - 0.27"
   ]
  },
  {
   "cell_type": "code",
   "execution_count": null,
   "metadata": {},
   "outputs": [],
   "source": [
    "# Визуализация результатов экспериментов\n",
    "fig, ax = plt.subplots(ncols=2, figsize=(15,5))\n",
    "ax[0].hist(results_1)\n",
    "ax[0].vlines(x = analytical_result_1,\n",
    "          ymin = 0,\n",
    "          ymax = ax[0].get_ylim()[1],\n",
    "          color = 'm',\n",
    "          linewidth = 2,\n",
    "          label = f'Аналитическая вероятность - {analytical_result_1}')\n",
    "ax[1].boxplot(results_1)\n",
    "ax[1].scatter(x=1, y=analytical_result_1, c='m', label=f'Аналитическая вероятность - {analytical_result_1}')\n",
    "\n",
    "ax[0].title.set_text(f\"Распределение {n_experiments_1} результатов экспериментов\\nГистограмма\")\n",
    "ax[0].legend(loc=\"upper right\")\n",
    "ax[1].title.set_text(f\"Распределение {n_experiments_1} результатов экспериментов\\nЯщик с усами\")\n",
    "#ax[1].legend(loc=\"lower left\")\n",
    "plt.show()"
   ]
  },
  {
   "cell_type": "code",
   "execution_count": null,
   "metadata": {},
   "outputs": [],
   "source": [
    "# Проверка на вхождение в доверительный интервал (90% от всех наблюдений)\n",
    "alpha = 0.9\n",
    "x_in_confidence_interval_1 = lambda x, s, a: s.quantile(0.5-a/2) <= x <= s.quantile(0.5+a/2)\n",
    "in_interval_1 = x_in_confidence_interval_1(analytical_result_1, results_1, alpha)\n",
    "\n",
    "print(f\"Доверительный интервал (при alpha={alpha}): {results_1.quantile(0.5-alpha/2):.4f} - {results_1.quantile(0.5+alpha/2):.4f}\\n\"\\\n",
    "    f\"{analytical_result_1} - {'входит в интервал' if in_interval_1 else 'не входит в интервал'}\")"
   ]
  },
  {
   "cell_type": "markdown",
   "metadata": {},
   "source": [
    "##### Вывод:\n",
    "\n",
    "Аналитическая вероятность не входит в доверительный интервал, при:\n",
    "1. alpha = 0.9\n",
    "2. Кол-во экспериментов = 300\n",
    "3. Кол-во наблюдений в каждом эксперименте = 100\n",
    "\n",
    "Данный эксперимент **не подтверждает** аналитический рельтат."
   ]
  },
  {
   "cell_type": "markdown",
   "metadata": {},
   "source": [
    "## Задача 3\n",
    "\n",
    "Мастер, имея 10 деталей, из которых 3 – нестандартных, проверяет детали одну за другой, пока ему не попадется стандартная. Какова вероятность, что он проверит ровно две детали?\n",
    "\n",
    "В интернете полученный аналитически ответ 7/30 или 0.23333. Подтверждается ли он эксперементально?"
   ]
  },
  {
   "cell_type": "code",
   "execution_count": null,
   "metadata": {},
   "outputs": [],
   "source": [
    "random_seed = 1\n",
    "analytical_result_2 = 0.23333"
   ]
  },
  {
   "cell_type": "code",
   "execution_count": null,
   "metadata": {},
   "outputs": [],
   "source": [
    "def create_details_line(seed:int, n_details:int=10, n_not_standart_details:int=3) -> list:\n",
    "    \"\"\" \n",
    "    Функция формирует и возвращает массив целых чисел (0 и 1), \n",
    "    представляемый 'последовательностью деталей', где 0 - стандартная деталь, 1 - не стандартная деталь.\n",
    "    \"\"\"\n",
    "    n_standart_details = n_details - n_not_standart_details\n",
    "    details_line = []\n",
    "    for i in range(n_details):\n",
    "        details_line.append(int(i<n_not_standart_details))\n",
    "    np.random.seed(seed)     \n",
    "    np.random.shuffle(details_line)\n",
    "    return details_line"
   ]
  },
  {
   "cell_type": "code",
   "execution_count": null,
   "metadata": {},
   "outputs": [],
   "source": [
    "def experiment_2(details_line_create_func:object, n_observations:int, seed:int) -> float:\n",
    "    \"\"\"\n",
    "    Функция воспроизводит эксперимент со случайными взятиями фруктов из корзины, \n",
    "    формируя датафрейм по полученным исходам,\n",
    "    и возвращает долю интересующих наблюдений от всей сгенерированной выборки.\n",
    "    \"\"\"\n",
    "    df = pd.DataFrame([details_line_create_func(random_seed+seed+i) for i in range(n_observations)], \n",
    "                      columns=[\"x0\",\"x1\",\"x2\",\"x3\",\"x4\",\"x5\",\"x6\",\"x7\",\"x8\",\"x9\"])\n",
    "    n_relevant_observations = df[(df.x0==1) & (df.x1==0)].shape[0]\n",
    "    return (n_relevant_observations / n_observations)"
   ]
  },
  {
   "cell_type": "code",
   "execution_count": null,
   "metadata": {},
   "outputs": [],
   "source": [
    "# Результат эксперимента для 30 наблюдений\n",
    "n_observations_2 = 30\n",
    "experiment_2(create_details_line, n_observations_2, random_seed)\n",
    "\n",
    "# 0.06666666666666667"
   ]
  },
  {
   "cell_type": "code",
   "execution_count": null,
   "metadata": {},
   "outputs": [],
   "source": [
    "# Статистические показатели по 1000 экспериментам\n",
    "n_observations_2 = 30\n",
    "n_experiments_2 = 1000\n",
    "results_2 = pd.Series([experiment_2(create_details_line, n_observations_2, i) for i in tqdm(range(n_experiments_2))])\n",
    "\n",
    "\n",
    "print(f\"Средний результат - {results_2.mean():.5f}\\n\"\\\n",
    "      f\"Стандартное отклонение - {results_2.std():.5f}\\n\"\\\n",
    "      f\"Минимальное значение - {results_2.min():.5f}\\n\"\\\n",
    "      f\"Максимальное значение - {results_2.max():.5f}\")\n",
    "\n",
    "# Средний результат - 0.22047\n",
    "# Стандартное отклонение - 0.07075\n",
    "# Минимальное значение - 0.06667\n",
    "# Максимальное значение - 0.43333"
   ]
  },
  {
   "cell_type": "code",
   "execution_count": null,
   "metadata": {},
   "outputs": [],
   "source": [
    "# Визуализация результатов экспериментов\n",
    "fig, ax = plt.subplots(ncols=2, figsize=(15,5))\n",
    "ax[0].hist(results_2)\n",
    "ax[0].vlines(x = analytical_result_2,\n",
    "          ymin = 0,\n",
    "          ymax = ax[0].get_ylim()[1],\n",
    "          color = 'm',\n",
    "          linewidth = 2,\n",
    "          label = f'Аналитическая вероятность - {analytical_result_2}')\n",
    "ax[1].boxplot(results)\n",
    "ax[1].scatter(x=1, y=analytical_result_2, c='m', label=f'Аналитическая вероятность - {analytical_result_2}')\n",
    "\n",
    "ax[0].title.set_text(f\"Распределение {n_experiments_2} результатов экспериментов\\nГистограмма\")\n",
    "ax[0].legend(loc=\"lower left\")\n",
    "ax[1].title.set_text(f\"Распределение {n_experiments_2} результатов экспериментов\\nЯщик с усами\")\n",
    "ax[1].legend(loc=\"lower left\")\n",
    "plt.show()"
   ]
  },
  {
   "cell_type": "code",
   "execution_count": null,
   "metadata": {},
   "outputs": [],
   "source": [
    "# Проверка на вхождение в доверительный интервал (90% от всех наблюдений)\n",
    "alpha = 0.9\n",
    "x_in_confidence_interval_2 = lambda x, s, a: s.quantile(0.5-a/2) <= x <= s.quantile(0.5+a/2)\n",
    "in_interval_2 = x_in_confidence_interval_2(analytical_result_2, results_2, alpha)\n",
    "\n",
    "print(f\"Доверительный интервал (при alpha={alpha}): {results_2.quantile(0.5-alpha/2):.4f} - {results_2.quantile(0.5+alpha/2):.4f}\\n\"\\\n",
    "    f\"{analytical_result_2} - {'входит в интервал' if in_interval_2 else 'не входит в интервал'}\")"
   ]
  },
  {
   "cell_type": "markdown",
   "metadata": {},
   "source": [
    "##### Вывод:\n",
    "\n",
    "Аналитическая вероятность входит в доверительный интервал, при:\n",
    "1. alpha = 0.9\n",
    "2. Кол-во экспериментов = 1000\n",
    "3. Кол-во наблюдений в каждом эксперименте = 30\n",
    "\n",
    "Данный эксперимент **подтверждает** аналитический рельтат."
   ]
  }
 ],
 "metadata": {
  "kernelspec": {
   "display_name": "Python 3",
   "language": "python",
   "name": "python3"
  },
  "language_info": {
   "codemirror_mode": {
    "name": "ipython",
    "version": 3
   },
   "file_extension": ".py",
   "mimetype": "text/x-python",
   "name": "python",
   "nbconvert_exporter": "python",
   "pygments_lexer": "ipython3",
   "version": "3.8.3"
  }
 },
 "nbformat": 4,
 "nbformat_minor": 4
}
